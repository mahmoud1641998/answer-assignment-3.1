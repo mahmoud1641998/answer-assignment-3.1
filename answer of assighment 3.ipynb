{
 "cells": [
  {
   "cell_type": "markdown",
   "id": "0b6483e4-8c76-499b-bafb-ac37ff69d923",
   "metadata": {},
   "source": [
    "1. Implement Fibonacci series using recursion. "
   ]
  },
  {
   "cell_type": "code",
   "execution_count": 1,
   "id": "abcf33fd-0de3-4f58-8f6d-34675a9f3cc8",
   "metadata": {},
   "outputs": [],
   "source": [
    "def fibo(x):\n",
    "    if x==1:\n",
    "        return 1\n",
    "    else:\n",
    "        return (x*fibo(x-1))\n",
    "    "
   ]
  },
  {
   "cell_type": "code",
   "execution_count": 3,
   "id": "e3f09798-550d-4f52-a628-f95c89245797",
   "metadata": {},
   "outputs": [
    {
     "data": {
      "text/plain": [
       "6"
      ]
     },
     "execution_count": 3,
     "metadata": {},
     "output_type": "execute_result"
    }
   ],
   "source": [
    "fibo(3)"
   ]
  },
  {
   "cell_type": "markdown",
   "id": "2a080052-6587-498a-a70c-65700876304a",
   "metadata": {},
   "source": [
    "2. Write a Python program to find all the unique words and count the frequency of \r\n",
    "occurrence from a given list of strings.  "
   ]
  },
  {
   "cell_type": "code",
   "execution_count": 5,
   "id": "f2f8a6e7-9883-46cb-b204-dd19c35fae5f",
   "metadata": {},
   "outputs": [],
   "source": [
    "l_o_f=[\"ahmed\",\"mostafa\",\"omar\",\"mohamed\",\"ahmed\",\"ahmed\",\"hessien\",\"soliman\",\"mostafa\"]"
   ]
  },
  {
   "cell_type": "code",
   "execution_count": 7,
   "id": "72075f96-c4a1-4e5f-9180-09ad53902414",
   "metadata": {},
   "outputs": [],
   "source": [
    "def c_o_u(x):\n",
    "    counter=0\n",
    "    for i in x:\n",
    "        \n",
    "        if i in x:\n",
    "            x.remove(i)\n",
    "        else:\n",
    "            counter+=1 \n",
    "    return (x,counter)"
   ]
  },
  {
   "cell_type": "code",
   "execution_count": 9,
   "id": "f3ae36ab-a652-4466-8cbc-82031ac82ef5",
   "metadata": {},
   "outputs": [
    {
     "data": {
      "text/plain": [
       "(['mohamed', 'ahmed', 'soliman', 'mostafa'], 0)"
      ]
     },
     "execution_count": 9,
     "metadata": {},
     "output_type": "execute_result"
    }
   ],
   "source": [
    "c_o_u(l_o_f)"
   ]
  },
  {
   "cell_type": "markdown",
   "id": "78ea18fb-3695-4da5-96f2-dbd31517477d",
   "metadata": {},
   "source": [
    "3. Write a Python program that finds all pairs of elements in a list whose sum is equal to a \r\n",
    "given value."
   ]
  },
  {
   "cell_type": "code",
   "execution_count": 11,
   "id": "bf4ab0c5-0115-4321-91a4-8cdb3f918ece",
   "metadata": {},
   "outputs": [
    {
     "data": {
      "text/plain": [
       "[[(1, 8)], [(2, 7)], [(3, 6)], [], [(6, 3)], [(8, 1)], [(7, 2)]]"
      ]
     },
     "execution_count": 11,
     "metadata": {},
     "output_type": "execute_result"
    }
   ],
   "source": [
    "def get_pairs(x,y):\n",
    "    l_o_p=[[(i,j) for j in x if j+i==y]for i in x]\n",
    "    return l_o_p\n",
    "my_list=[1,2,3,5,6,8,7]  \n",
    "get_pairs(my_list,9)            \n",
    "    "
   ]
  },
  {
   "cell_type": "markdown",
   "id": "e556ae0c-c168-43bb-93d2-e46a371dfe9d",
   "metadata": {},
   "source": [
    "4. Write a Python program to find the two numbers whose product is maximum among all \r\n",
    "the pairs in a given list of numbers"
   ]
  },
  {
   "cell_type": "code",
   "execution_count": 27,
   "id": "575ee5bf-fbed-4928-9aa6-4ef0ec670d41",
   "metadata": {},
   "outputs": [],
   "source": [
    "def max_product(l):\n",
    "    max_p=0\n",
    "    for i in range(len(l)-1):\n",
    "          if l[i]*l[i+1]>max_p:\n",
    "                x=l[i]\n",
    "                y=l[i+1]\n",
    "                max_p=x*y\n",
    "        \n",
    "          \n",
    "    return f\"the max product pairs is {(x,y)} =  {max_p}\"\n",
    "    "
   ]
  },
  {
   "cell_type": "code",
   "execution_count": 29,
   "id": "bd444f19-4fd4-4730-b548-de102f288bae",
   "metadata": {},
   "outputs": [
    {
     "data": {
      "text/plain": [
       "'the max product is (8, 10) =  80'"
      ]
     },
     "execution_count": 29,
     "metadata": {},
     "output_type": "execute_result"
    }
   ],
   "source": [
    "my_list=[2,5,4,1,9,8,10,3]\n",
    "max_product(my_list)"
   ]
  },
  {
   "cell_type": "markdown",
   "id": "ac514d18-04fd-4aa1-abda-0caab38056ba",
   "metadata": {},
   "source": [
    "5. \n",
    "Write a Python function that takes a number as a parameter and checks whether the \r\n",
    "number is prime or not."
   ]
  },
  {
   "cell_type": "code",
   "execution_count": 37,
   "id": "c842b88c-acaa-4da0-8226-aa8b0206a09b",
   "metadata": {},
   "outputs": [],
   "source": [
    "def prims(x):\n",
    "    for i in range(2,x):\n",
    "        if x%i ==0:\n",
    "            return f\"{x} not a prime number\"\n",
    "    return f\"{x} is a prime number\""
   ]
  },
  {
   "cell_type": "code",
   "execution_count": 45,
   "id": "9924e7d7-2730-4213-aa74-03e5ecdfa493",
   "metadata": {},
   "outputs": [
    {
     "data": {
      "text/plain": [
       "'21 not a prime number'"
      ]
     },
     "execution_count": 45,
     "metadata": {},
     "output_type": "execute_result"
    }
   ],
   "source": [
    "prims(21)"
   ]
  },
  {
   "cell_type": "markdown",
   "id": "edb97b7f-a0d2-4e39-8188-3a36f55b537d",
   "metadata": {},
   "source": [
    "6. Write a Python function  to print the even numbers from a given list. \r\n"
   ]
  },
  {
   "cell_type": "code",
   "execution_count": 54,
   "id": "b2e1e966-2dd2-423a-a5bb-87c90b065703",
   "metadata": {},
   "outputs": [],
   "source": [
    "my_list=[1,2,3,4,9,7,8,5,10,18,14,13,17,22,66,45,44]"
   ]
  },
  {
   "cell_type": "code",
   "execution_count": 62,
   "id": "0dec3792-2927-4b07-98ec-18417180415a",
   "metadata": {},
   "outputs": [],
   "source": [
    "def even_n(l):\n",
    "    return list(filter(lambda x:x%2==0,l))"
   ]
  },
  {
   "cell_type": "code",
   "execution_count": 64,
   "id": "d501108b-410e-4716-85fb-fafd14123f82",
   "metadata": {},
   "outputs": [
    {
     "data": {
      "text/plain": [
       "[2, 4, 8, 10, 18, 14, 22, 66, 44]"
      ]
     },
     "execution_count": 64,
     "metadata": {},
     "output_type": "execute_result"
    }
   ],
   "source": [
    "even_n(my_list)"
   ]
  },
  {
   "cell_type": "markdown",
   "id": "728ce644-c31a-4146-b9b3-fa8a614ebdbd",
   "metadata": {},
   "source": [
    "7. Write a function that will take a given string and reverse the order of words. \r\n"
   ]
  },
  {
   "cell_type": "code",
   "execution_count": 165,
   "id": "a55d9ecb-200c-4b37-a20f-6a475ccc2f78",
   "metadata": {},
   "outputs": [],
   "source": [
    "x= \"hello world\"\n",
    "def rev(l):\n",
    "    y=l.split()\n",
    "    y.reverse()\n",
    "    return \" \".join(y)\n",
    "    "
   ]
  },
  {
   "cell_type": "code",
   "execution_count": 167,
   "id": "5006b417-daad-440d-8a2b-ff0eee09b017",
   "metadata": {},
   "outputs": [
    {
     "name": "stdout",
     "output_type": "stream",
     "text": [
      "world hello\n"
     ]
    }
   ],
   "source": [
    "print(rev(x))"
   ]
  },
  {
   "cell_type": "markdown",
   "id": "97eeb42b-d92e-4442-bc72-0e47c8756246",
   "metadata": {},
   "source": [
    "8. Given an integer x, return true if x is a palindrome, and false otherwise."
   ]
  },
  {
   "cell_type": "code",
   "execution_count": 204,
   "id": "f9d53195-cca4-4601-84e3-666d7200e2e9",
   "metadata": {},
   "outputs": [
    {
     "name": "stdin",
     "output_type": "stream",
     "text": [
      "enter the number 555\n"
     ]
    },
    {
     "data": {
      "text/plain": [
       "True"
      ]
     },
     "execution_count": 204,
     "metadata": {},
     "output_type": "execute_result"
    }
   ],
   "source": [
    "x=input (\"enter the number\")\n",
    "def palind(n):\n",
    "    y=list(n)\n",
    "    y.reverse()\n",
    "    if x==\"\".join(y):\n",
    "        return True\n",
    "    else :\n",
    "        return False\n",
    "palind(x)\n",
    "        \n",
    "\n"
   ]
  },
  {
   "cell_type": "markdown",
   "id": "70ca9328-4154-4726-9322-6be96c194494",
   "metadata": {},
   "source": [
    "9.  Write a Python function that checks whether a passed string is a palindrome or not. \r\n"
   ]
  },
  {
   "cell_type": "code",
   "execution_count": 209,
   "id": "b22d8b85-a314-436e-baeb-b03f50d41c4d",
   "metadata": {},
   "outputs": [
    {
     "name": "stdin",
     "output_type": "stream",
     "text": [
      "enter the string ghjk\n"
     ]
    },
    {
     "data": {
      "text/plain": [
       "False"
      ]
     },
     "execution_count": 209,
     "metadata": {},
     "output_type": "execute_result"
    }
   ],
   "source": [
    "x=input (\"enter the string\")\n",
    "def palind(n):\n",
    "    y=list(n)\n",
    "    y.reverse()\n",
    "    if x==\"\".join(y):\n",
    "        return True\n",
    "    else :\n",
    "        return False\n",
    "palind(x)\n",
    "        "
   ]
  },
  {
   "cell_type": "markdown",
   "id": "2994ad30-277a-41bf-85ed-718fe7d8d55a",
   "metadata": {},
   "source": [
    "10. Write a Python function to create and print a list where the values are the squares of numbers \r\n",
    "between 1 and 30 (both included).  "
   ]
  },
  {
   "cell_type": "code",
   "execution_count": 1,
   "id": "f4907517-d301-45cb-bdd5-0e7b014dafac",
   "metadata": {},
   "outputs": [
    {
     "data": {
      "text/plain": [
       "[1,\n",
       " 4,\n",
       " 9,\n",
       " 16,\n",
       " 25,\n",
       " 36,\n",
       " 49,\n",
       " 64,\n",
       " 81,\n",
       " 100,\n",
       " 121,\n",
       " 144,\n",
       " 169,\n",
       " 196,\n",
       " 225,\n",
       " 256,\n",
       " 289,\n",
       " 324,\n",
       " 361,\n",
       " 400,\n",
       " 441,\n",
       " 484,\n",
       " 529,\n",
       " 576,\n",
       " 625,\n",
       " 676,\n",
       " 729,\n",
       " 784,\n",
       " 841]"
      ]
     },
     "execution_count": 1,
     "metadata": {},
     "output_type": "execute_result"
    }
   ],
   "source": [
    "def sq_func(l):\n",
    "    y=list(map(lambda x:x**2,l))\n",
    "    return y\n",
    "my_list=[i for i in range(1,30)]\n",
    "sq_func(my_list)"
   ]
  },
  {
   "cell_type": "markdown",
   "id": "77fc86f6-0fcf-4ea9-9741-fea0fb09916b",
   "metadata": {},
   "source": [
    "11. Write a Python function to generate all permutations of a list.  "
   ]
  },
  {
   "cell_type": "code",
   "execution_count": 36,
   "id": "a3ac6e8f-dd9f-4060-9c65-3542d1f6b07d",
   "metadata": {},
   "outputs": [
    {
     "ename": "TypeError",
     "evalue": "'int' object is not iterable",
     "output_type": "error",
     "traceback": [
      "\u001b[1;31m---------------------------------------------------------------------------\u001b[0m",
      "\u001b[1;31mTypeError\u001b[0m                                 Traceback (most recent call last)",
      "Cell \u001b[1;32mIn[36], line 12\u001b[0m\n\u001b[0;32m      9\u001b[0m     \u001b[38;5;28;01mreturn\u001b[39;00m p_list\n\u001b[0;32m     10\u001b[0m my_list\u001b[38;5;241m=\u001b[39m[\u001b[38;5;241m5\u001b[39m,\u001b[38;5;241m8\u001b[39m,\u001b[38;5;241m7\u001b[39m,\u001b[38;5;241m4\u001b[39m,\u001b[38;5;241m2\u001b[39m,\u001b[38;5;241m20\u001b[39m]\n\u001b[1;32m---> 12\u001b[0m permutation(my_list,\u001b[38;5;241m1\u001b[39m)\n",
      "Cell \u001b[1;32mIn[36], line 8\u001b[0m, in \u001b[0;36mpermutation\u001b[1;34m(l, c)\u001b[0m\n\u001b[0;32m      6\u001b[0m         p_list\u001b[38;5;241m.\u001b[39mappend(p)\n\u001b[0;32m      7\u001b[0m     \u001b[38;5;28;01melse\u001b[39;00m:\n\u001b[1;32m----> 8\u001b[0m         c\u001b[38;5;241m=\u001b[39mc\u001b[38;5;241m*\u001b[39mpermutation(x\u001b[38;5;241m-\u001b[39m\u001b[38;5;241m1\u001b[39m)\n\u001b[0;32m      9\u001b[0m \u001b[38;5;28;01mreturn\u001b[39;00m p_list\n",
      "Cell \u001b[1;32mIn[36], line 4\u001b[0m, in \u001b[0;36mpermutation\u001b[1;34m(l, c)\u001b[0m\n\u001b[0;32m      3\u001b[0m \u001b[38;5;28;01mdef\u001b[39;00m \u001b[38;5;21mpermutation\u001b[39m(l,c\u001b[38;5;241m=\u001b[39m\u001b[38;5;241m1\u001b[39m):\n\u001b[1;32m----> 4\u001b[0m     \u001b[38;5;28;01mfor\u001b[39;00m x \u001b[38;5;129;01min\u001b[39;00m l:\n\u001b[0;32m      5\u001b[0m         \u001b[38;5;28;01mif\u001b[39;00m x \u001b[38;5;241m==\u001b[39m\u001b[38;5;241m1\u001b[39m:\n\u001b[0;32m      6\u001b[0m             p_list\u001b[38;5;241m.\u001b[39mappend(p)\n",
      "\u001b[1;31mTypeError\u001b[0m: 'int' object is not iterable"
     ]
    }
   ],
   "source": [
    "p_list=[]\n",
    "\n",
    "def permutation(l,c=1):\n",
    "    for x in l:\n",
    "        if x ==1:\n",
    "            p_list.append(p)\n",
    "        else:\n",
    "            c=c*permutation(x-1)\n",
    "    return p_list\n",
    "my_list=[5,8,7,4,2,20]\n",
    "\n",
    "permutation(my_list,1)"
   ]
  },
  {
   "cell_type": "markdown",
   "id": "218b0357-77aa-4e9e-84f5-cb23a4717561",
   "metadata": {},
   "source": [
    "12. Write a Python program to access a function inside a function. "
   ]
  },
  {
   "cell_type": "code",
   "execution_count": 10,
   "id": "9512dd2c-1e44-4a66-ada7-9692816ae832",
   "metadata": {},
   "outputs": [],
   "source": [
    "def summ(l):\n",
    "    print(sum(l))\n",
    "    return sum(l)\n",
    "def oss2(li):\n",
    "    return summ(li)**2"
   ]
  },
  {
   "cell_type": "code",
   "execution_count": 12,
   "id": "60e6d073-4ee9-4674-9532-b53ddd00f36e",
   "metadata": {},
   "outputs": [],
   "source": [
    "my_list=[2,9,6,45,7]"
   ]
  },
  {
   "cell_type": "code",
   "execution_count": 14,
   "id": "08771f5d-c083-4988-bdc4-929b7263965d",
   "metadata": {},
   "outputs": [
    {
     "name": "stdout",
     "output_type": "stream",
     "text": [
      "69\n"
     ]
    },
    {
     "data": {
      "text/plain": [
       "4761"
      ]
     },
     "execution_count": 14,
     "metadata": {},
     "output_type": "execute_result"
    }
   ],
   "source": [
    "oss2(my_list)"
   ]
  },
  {
   "cell_type": "code",
   "execution_count": null,
   "id": "69dc9c83-a093-4611-bd31-9beb2bf7d300",
   "metadata": {},
   "outputs": [],
   "source": []
  },
  {
   "cell_type": "code",
   "execution_count": null,
   "id": "55ce66f2-5fd6-40ca-93f8-80cfd4626ee7",
   "metadata": {},
   "outputs": [],
   "source": []
  }
 ],
 "metadata": {
  "kernelspec": {
   "display_name": "Python 3 (ipykernel)",
   "language": "python",
   "name": "python3"
  },
  "language_info": {
   "codemirror_mode": {
    "name": "ipython",
    "version": 3
   },
   "file_extension": ".py",
   "mimetype": "text/x-python",
   "name": "python",
   "nbconvert_exporter": "python",
   "pygments_lexer": "ipython3",
   "version": "3.12.4"
  }
 },
 "nbformat": 4,
 "nbformat_minor": 5
}
